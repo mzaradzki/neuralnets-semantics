{
 "cells": [
  {
   "cell_type": "code",
   "execution_count": 36,
   "metadata": {
    "collapsed": true
   },
   "outputs": [],
   "source": [
    "from __future__ import print_function\n",
    "import numpy as np\n",
    "import tensorflow as tf"
   ]
  },
  {
   "cell_type": "code",
   "execution_count": 37,
   "metadata": {
    "collapsed": false
   },
   "outputs": [
    {
     "name": "stdout",
     "output_type": "stream",
     "text": [
      "Tensor(\"add_1:0\", shape=(100, 250), dtype=float32)\n",
      "Tensor(\"Reshape_1:0\", shape=(100, 250), dtype=float32)\n"
     ]
    }
   ],
   "source": [
    "batch_size = 100\n",
    "kappaNN = 0.001*2\n",
    "kappaLGSTC = 0.001*5\n",
    "\n",
    "numwords = 3\n",
    "vocab_size = 250\n",
    "n_embed = 150\n",
    "n_hidden = 100\n",
    "n_output = vocab_size\n",
    "\n",
    "graph = tf.Graph()\n",
    "with graph.as_default():\n",
    "    \n",
    "    # Input data. For the training data, we use a placeholder that will be fed\n",
    "    # at run time with a training minibatch.\n",
    "    tf_train_dataset = tf.placeholder(tf.int32, shape=(numwords, batch_size))\n",
    "    tf_train_labels = tf.placeholder(tf.int32, shape=(1, batch_size))\n",
    "    #tf_valid_dataset = tf.constant(valid_dataset)\n",
    "    #tf_test_dataset = tf.constant(test_dataset)\n",
    "\n",
    "    # Variables.\n",
    "    weightsW2E = tf.Variable(tf.truncated_normal([vocab_size, n_embed]))\n",
    "    weightsE2H = tf.Variable(tf.truncated_normal([n_embed*numwords, n_hidden]))\n",
    "    biasesH = tf.Variable(tf.zeros([n_hidden]))\n",
    "    weightsH2O = tf.Variable(tf.truncated_normal([n_hidden, n_output]))\n",
    "    biasesO = tf.Variable(tf.zeros([n_output]))\n",
    "\n",
    "    # Training computation.\n",
    "    train_embed = tf.reshape(tf.gather(weightsW2E, tf_train_dataset, validate_indices=None, name=None),\n",
    "                             [-1,numwords*n_embed])\n",
    "    train_logitsH = tf.matmul(train_embed, weightsE2H) + biasesH\n",
    "    train_H = tf.sigmoid(train_logitsH)\n",
    "    train_logitsO = tf.matmul(train_H, weightsH2O) + biasesO\n",
    "    train_predictionO = tf.nn.softmax(train_logitsO) # Info : not used in cross-entropy function\n",
    "    print(train_logitsO)\n",
    "    \n",
    "    train_target = tf.reshape(tf.gather(tf.eye(vocab_size), tf_train_labels, validate_indices=None, name=None), [batch_size,-1])\n",
    "    print(train_target)\n",
    "        \n",
    "    #loss = tf.reduce_mean(tf.nn.softmax_cross_entropy_with_logits(train_logitsO, tf_train_labels))\n",
    "    loss = tf.reduce_mean(tf.nn.softmax_cross_entropy_with_logits(train_logitsO, train_target))\n",
    "    param1_l2 = tf.nn.l2_loss(weightsE2H)# + tf.nn.l2_loss(biasesH)\n",
    "    param2_l2 = tf.nn.l2_loss(weightsH2O)# + tf.nn.l2_loss(biasesO)\n",
    "    reg_loss = loss + kappaNN * (param1_l2 + param2_l2)\n",
    "\n",
    "    # Optimizer.\n",
    "    optimizer = tf.train.GradientDescentOptimizer(0.5).minimize(reg_loss)\n",
    "\n",
    "    '''\n",
    "    # Predictions for the training, validation, and test data.\n",
    "    train_prediction = tf.nn.softmax(train_logitsO)\n",
    "    #\n",
    "    valid_logitsH = tf.matmul(tf_valid_dataset, weightsE2H) + biasesE2H\n",
    "    valid_H = tf.nn.relu(valid_logitsH)\n",
    "    valid_logitsO = tf.matmul(valid_H, weightsH2O) + biasesH2O\n",
    "    valid_predictionO = tf.nn.softmax(valid_logitsO)\n",
    "    #\n",
    "    test_logitsH = tf.matmul(tf_test_dataset, weightsE2H) + biasesE2H\n",
    "    test_H = tf.nn.relu(test_logitsH)\n",
    "    test_logitsO = tf.matmul(test_H, weightsH2O) + biasesH2O\n",
    "    test_predictionO = tf.nn.softmax(test_logitsO)'''\n"
   ]
  },
  {
   "cell_type": "code",
   "execution_count": 40,
   "metadata": {
    "collapsed": false
   },
   "outputs": [
    {
     "name": "stdout",
     "output_type": "stream",
     "text": [
      "Initialized\n",
      "Minibatch loss at step 0: 17.176107\n",
      "Minibatch accuracy: 0.0%\n",
      "Minibatch loss at step 500: 6.077715\n",
      "Minibatch accuracy: 0.0%\n",
      "Minibatch loss at step 1000: 4.470451\n",
      "Minibatch accuracy: 0.0%\n",
      "Minibatch loss at step 1500: 4.709394\n",
      "Minibatch accuracy: 0.0%\n",
      "Minibatch loss at step 2000: 4.638890\n",
      "Minibatch accuracy: 0.0%\n",
      "Minibatch loss at step 2500: 4.482400\n",
      "Minibatch accuracy: 0.0%\n",
      "Minibatch loss at step 3000: 4.392922\n",
      "Minibatch accuracy: 0.0%\n"
     ]
    }
   ],
   "source": [
    "num_steps = 3001 # to debug\n",
    "\n",
    "from utilities import load_data\n",
    "\n",
    "[train_input, train_target, valid_input, valid_target, test_input, test_target, vocab] = load_data(batch_size)\n",
    "\n",
    "def accuracy(predictions, labels):\n",
    "  return (100.0 * np.sum(np.argmax(predictions, 1) == np.argmax(labels, 1)) / predictions.shape[0])\n",
    "\n",
    "with tf.Session(graph=graph) as session:\n",
    "    tf.global_variables_initializer().run()\n",
    "    print(\"Initialized\")\n",
    "    for step in range(num_steps):\n",
    "        # Generate a minibatch.\n",
    "        batch_data = train_input[:,:,step].astype(int)\n",
    "        batch_labels = train_target[:,:,step].astype(int)\n",
    "        # Prepare a dictionary telling the session where to feed the minibatch.\n",
    "        # The key of the dictionary is the placeholder node of the graph to be fed,\n",
    "        # and the value is the numpy array to feed to it.\n",
    "        feed_dict = {tf_train_dataset : batch_data, tf_train_labels : batch_labels}\n",
    "        _, l, predictions = session.run([optimizer, loss, train_predictionO], feed_dict=feed_dict)\n",
    "        if (step % 500 == 0):\n",
    "            print(\"Minibatch loss at step %d: %f\" % (step, l))\n",
    "            print(\"Minibatch accuracy: %.1f%%\" % accuracy(predictions, batch_labels))\n",
    "            #print(\"Validation accuracy: %.1f%%\" % accuracy(valid_prediction.eval(), valid_labels))\n",
    "    #print(\"Test accuracy: %.1f%%\" % accuracy(test_prediction.eval(), test_labels))"
   ]
  },
  {
   "cell_type": "code",
   "execution_count": null,
   "metadata": {
    "collapsed": true
   },
   "outputs": [],
   "source": []
  }
 ],
 "metadata": {
  "kernelspec": {
   "display_name": "Python 2",
   "language": "python",
   "name": "python2"
  },
  "language_info": {
   "codemirror_mode": {
    "name": "ipython",
    "version": 2
   },
   "file_extension": ".py",
   "mimetype": "text/x-python",
   "name": "python",
   "nbconvert_exporter": "python",
   "pygments_lexer": "ipython2",
   "version": "2.7.11"
  }
 },
 "nbformat": 4,
 "nbformat_minor": 0
}
