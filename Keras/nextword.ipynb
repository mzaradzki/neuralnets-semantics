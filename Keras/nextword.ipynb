{
 "cells": [
  {
   "cell_type": "code",
   "execution_count": null,
   "metadata": {
    "collapsed": false
   },
   "outputs": [],
   "source": [
    "import numpy as np\n",
    "import scipy"
   ]
  },
  {
   "cell_type": "code",
   "execution_count": null,
   "metadata": {
    "collapsed": false
   },
   "outputs": [],
   "source": [
    "import keras\n",
    "from keras import backend as K\n",
    "from keras.utils.data_utils import get_file\n",
    "from keras.models import Sequential\n",
    "from keras.layers import Input, Embedding\n",
    "from keras.layers.core import Reshape, Flatten, Dense, Dropout, Lambda\n",
    "#from keras.layers.convolutional import Convolution2D, MaxPooling2D, ZeroPadding2D\n",
    "from keras.optimizers import SGD, RMSprop\n",
    "from keras.preprocessing import image"
   ]
  },
  {
   "cell_type": "code",
   "execution_count": null,
   "metadata": {
    "collapsed": false
   },
   "outputs": [],
   "source": [
    "vocab_size = 250\n",
    "n_words = 3 # because we use 3-grams as inputs\n",
    "n_embed = 50\n",
    "n_hidden = 200\n",
    "n_output = vocab_size\n",
    "\n",
    "batch_size = 100\n",
    "\n",
    "model = Sequential()\n",
    "\n",
    "# Tricky part : needs to turn words into embedded vectors\n",
    "#    Documentation : https://keras.io/layers/embeddings/\n",
    "#    The model will take as Input an integer matrix of size (batch_size, n_words).\n",
    "#    The largest integer (i.e. word index) in the input should be no larger than vocab_size.\n",
    "#    Now model.output_shape == (None, n_words, n_embed), where None is the batch dimension.\n",
    "model.add(Embedding(vocab_size, n_embed, input_length=n_words))\n",
    "model.add(Reshape((n_words*n_embed, ))) # WARNING : does reshape need dim permut' as with TF ?\n",
    "\n",
    "# Standard neural-network layers\n",
    "model.add(Dense(n_hidden, input_shape=(n_words*n_embed,), activation='sigmoid')) # embed_to_hidden\n",
    "model.add(Dense(n_output, input_shape=(n_hidden,), activation='softmax')) # hidden_to_output\n",
    "\n",
    "model.compile(optimizer='rmsprop', loss='categorical_crossentropy', metrics=['accuracy'])"
   ]
  },
  {
   "cell_type": "code",
   "execution_count": null,
   "metadata": {
    "collapsed": true
   },
   "outputs": [],
   "source": [
    "DEBUG = True\n",
    "\n",
    "if DEBUG:\n",
    "    input_array = np.random.randint(vocab_size, size=(batch_size, n_words))\n",
    "    output_array = model.predict(input_array)\n",
    "    assert output_array.shape == (batch_size, vocab_size)"
   ]
  },
  {
   "cell_type": "code",
   "execution_count": null,
   "metadata": {
    "collapsed": false
   },
   "outputs": [],
   "source": [
    "TEST = True\n",
    "\n",
    "if TEST:\n",
    "    modelE = Sequential()\n",
    "    # Tricky part : needs to turn words into embedded vectors\n",
    "    #    Documentation : https://keras.io/layers/embeddings/\n",
    "    #    The model will take as Input an integer matrix of size (batch_size, n_words).\n",
    "    #    The largest integer (i.e. word index) in the input should be no larger than vocab_size.\n",
    "    #    Now model.output_shape == (None, n_words, n_embed), where None is the batch dimension.\n",
    "    modelE.add(Embedding(vocab_size, n_embed, input_length=n_words))\n",
    "    modelE.compile('rmsprop', 'mse')\n",
    "    input_array = np.random.randint(vocab_size, size=(batch_size, n_words))\n",
    "    output_array = modelE.predict(input_array)\n",
    "    print(output_array.shape)\n",
    "    assert output_array.shape == (batch_size, n_words, n_embed)\n",
    "\n",
    "if TEST:\n",
    "    modelER = Sequential()\n",
    "    modelER.add(Embedding(vocab_size, n_embed, input_length=n_words))\n",
    "    modelER.add(Reshape((n_words*n_embed, )))\n",
    "    # now: model.output_shape == (None, n_words*n_embed, 4)\n",
    "    # note: `None` is the batch dimension\n",
    "    modelER.compile('rmsprop', 'mse')\n",
    "    input_array = np.random.randint(vocab_size, size=(batch_size, n_words))\n",
    "    output_array = modelER.predict(input_array)\n",
    "    print(output_array.shape)\n",
    "    assert output_array.shape == (batch_size, n_words*n_embed)"
   ]
  },
  {
   "cell_type": "code",
   "execution_count": null,
   "metadata": {
    "collapsed": false
   },
   "outputs": [],
   "source": []
  }
 ],
 "metadata": {
  "kernelspec": {
   "display_name": "Python 2",
   "language": "python",
   "name": "python2"
  },
  "language_info": {
   "codemirror_mode": {
    "name": "ipython",
    "version": 2
   },
   "file_extension": ".py",
   "mimetype": "text/x-python",
   "name": "python",
   "nbconvert_exporter": "python",
   "pygments_lexer": "ipython2",
   "version": "2.7.11"
  }
 },
 "nbformat": 4,
 "nbformat_minor": 0
}
