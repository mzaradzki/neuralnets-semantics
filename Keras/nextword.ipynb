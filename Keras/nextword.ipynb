{
 "cells": [
  {
   "cell_type": "code",
   "execution_count": null,
   "metadata": {
    "collapsed": false
   },
   "outputs": [],
   "source": [
    "import numpy as np\n",
    "import scipy"
   ]
  },
  {
   "cell_type": "code",
   "execution_count": null,
   "metadata": {
    "collapsed": false
   },
   "outputs": [],
   "source": [
    "import keras\n",
    "from keras import backend as K\n",
    "from keras.utils.data_utils import get_file\n",
    "from keras.utils.np_utils import to_categorical\n",
    "from keras.models import Sequential\n",
    "from keras.layers import Input, Embedding\n",
    "from keras.layers.core import Reshape, Flatten, Dense, Dropout, Lambda\n",
    "from keras.optimizers import SGD, RMSprop"
   ]
  },
  {
   "cell_type": "code",
   "execution_count": null,
   "metadata": {
    "collapsed": true
   },
   "outputs": [],
   "source": [
    "vocab_size = 250\n",
    "n_words = 3 # because we use 3-grams as inputs\n",
    "n_embed = 50\n",
    "n_hidden = 200\n",
    "n_output = vocab_size\n",
    "\n",
    "batch_size = 100"
   ]
  },
  {
   "cell_type": "code",
   "execution_count": null,
   "metadata": {
    "collapsed": false
   },
   "outputs": [],
   "source": [
    "model = Sequential()\n",
    "\n",
    "# Tricky part : needs to turn words into embedded vectors\n",
    "#    Documentation : https://keras.io/layers/embeddings/\n",
    "#    The model will take as Input an integer matrix of size (batch_size, n_words).\n",
    "#    The largest integer (i.e. word index) in the input should be no larger than vocab_size.\n",
    "#    Now model.output_shape == (None, n_words, n_embed), where None is the batch dimension.\n",
    "model.add(Embedding(vocab_size, n_embed, input_length=n_words))\n",
    "model.add(Reshape((n_words*n_embed, ))) # WARNING : does reshape need dim permut' as with TF ?\n",
    "\n",
    "# Standard neural-network layers\n",
    "model.add(Dense(n_hidden, input_shape=(n_words*n_embed,), activation='sigmoid')) # embed_to_hidden\n",
    "model.add(Dense(n_output, input_shape=(n_hidden,), activation='softmax')) # hidden_to_output\n",
    "\n",
    "model.compile(optimizer='rmsprop', loss='categorical_crossentropy', metrics=['accuracy'])"
   ]
  },
  {
   "cell_type": "code",
   "execution_count": null,
   "metadata": {
    "collapsed": true
   },
   "outputs": [],
   "source": [
    "DEBUG = True\n",
    "TEST = True"
   ]
  },
  {
   "cell_type": "code",
   "execution_count": null,
   "metadata": {
    "collapsed": true
   },
   "outputs": [],
   "source": [
    "if DEBUG:\n",
    "    input_array = np.random.randint(vocab_size, size=(batch_size, n_words))\n",
    "    output_array = model.predict(input_array)\n",
    "    assert output_array.shape == (batch_size, vocab_size)"
   ]
  },
  {
   "cell_type": "code",
   "execution_count": null,
   "metadata": {
    "collapsed": false
   },
   "outputs": [],
   "source": [
    "if TEST:\n",
    "    modelE = Sequential()\n",
    "    # Tricky part : needs to turn words into embedded vectors\n",
    "    #    Documentation : https://keras.io/layers/embeddings/\n",
    "    #    The model will take as Input an integer matrix of size (batch_size, n_words).\n",
    "    #    The largest integer (i.e. word index) in the input should be no larger than vocab_size.\n",
    "    #    Now model.output_shape == (None, n_words, n_embed), where None is the batch dimension.\n",
    "    modelE.add(Embedding(vocab_size, n_embed, input_length=n_words))\n",
    "    modelE.compile('rmsprop', 'mse')\n",
    "    input_array = np.random.randint(vocab_size, size=(batch_size, n_words))\n",
    "    output_array = modelE.predict(input_array)\n",
    "    print(output_array.shape)\n",
    "    assert output_array.shape == (batch_size, n_words, n_embed)"
   ]
  },
  {
   "cell_type": "code",
   "execution_count": null,
   "metadata": {
    "collapsed": false
   },
   "outputs": [],
   "source": [
    "if TEST:\n",
    "    modelER = Sequential()\n",
    "    modelER.add(Embedding(vocab_size, n_embed, input_length=n_words))\n",
    "    modelER.add(Reshape((n_words*n_embed, )))\n",
    "    # now: model.output_shape == (None, n_words*n_embed, 4)\n",
    "    # note: `None` is the batch dimension\n",
    "    modelER.compile('rmsprop', 'mse')\n",
    "    input_array = np.random.randint(vocab_size, size=(batch_size, n_words))\n",
    "    output_array = modelER.predict(input_array)\n",
    "    print(output_array.shape)\n",
    "    assert output_array.shape == (batch_size, n_words*n_embed)"
   ]
  },
  {
   "cell_type": "code",
   "execution_count": null,
   "metadata": {
    "collapsed": false
   },
   "outputs": [],
   "source": [
    "if TEST:\n",
    "    # generate dummy data\n",
    "    n_test_samples = 300\n",
    "    data = np.random.randint(vocab_size, size=(n_test_samples, n_words))\n",
    "    labels = np.random.randint(vocab_size, size=(n_test_samples, 1))\n",
    "    # we convert the labels to a binary matrix of size (n_test_samples, vocab_size)\n",
    "    # for use with categorical_crossentropy\n",
    "    labels = to_categorical(labels, vocab_size)\n",
    "    # train the model\n",
    "    model.fit(data, labels, nb_epoch=5, batch_size=batch_size)"
   ]
  },
  {
   "cell_type": "code",
   "execution_count": null,
   "metadata": {
    "collapsed": true
   },
   "outputs": [],
   "source": [
    "from utilities import load_data"
   ]
  },
  {
   "cell_type": "code",
   "execution_count": null,
   "metadata": {
    "collapsed": false
   },
   "outputs": [],
   "source": [
    "''' SMALL SCALE VERSION TO CHECK IT RUNS FINE '''\n",
    "if TEST:\n",
    "    # get data into (mostly) a single batch as keras.fit takes care of batching\n",
    "    [train_input, train_target, valid_input, valid_target, test_input, test_target, vocab] = load_data(1500)\n",
    "    print(train_input.shape)\n",
    "    data = train_input[:,:,0].T\n",
    "    target = train_target[:,:,0].T\n",
    "    labels = to_categorical(target, vocab_size)\n",
    "    # train the model\n",
    "    model.fit(data, labels, nb_epoch=1, batch_size=batch_size)"
   ]
  },
  {
   "cell_type": "code",
   "execution_count": null,
   "metadata": {
    "collapsed": false
   },
   "outputs": [],
   "source": [
    "# get data into (mostly) a single batch as keras.fit takes care of batching\n",
    "[train_input, train_target, valid_input, valid_target, test_input, test_target, vocab] = load_data(150000)\n",
    "assert(train_input.shape[-1]==2) # to insure most of the data is covered\n",
    "data = train_input[:,:,0].T\n",
    "target = train_target[:,:,0].T\n",
    "labels = to_categorical(target, vocab_size)\n",
    "# some debug information\n",
    "print(train_input.shape)\n",
    "print(data.shape)\n",
    "print(target.shape)\n",
    "print(labels.shape)\n",
    "# train the model\n",
    "print('FIT THE MODEL')\n",
    "model.fit(data, labels, nb_epoch=10, batch_size=batch_size)"
   ]
  },
  {
   "cell_type": "code",
   "execution_count": null,
   "metadata": {
    "collapsed": true
   },
   "outputs": [],
   "source": []
  }
 ],
 "metadata": {
  "kernelspec": {
   "display_name": "Python 2",
   "language": "python",
   "name": "python2"
  },
  "language_info": {
   "codemirror_mode": {
    "name": "ipython",
    "version": 2
   },
   "file_extension": ".py",
   "mimetype": "text/x-python",
   "name": "python",
   "nbconvert_exporter": "python",
   "pygments_lexer": "ipython2",
   "version": "2.7.11"
  }
 },
 "nbformat": 4,
 "nbformat_minor": 0
}
