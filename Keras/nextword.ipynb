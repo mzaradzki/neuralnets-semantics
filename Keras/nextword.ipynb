{
 "cells": [
  {
   "cell_type": "code",
   "execution_count": 2,
   "metadata": {
    "collapsed": false
   },
   "outputs": [],
   "source": [
    "import numpy as np\n",
    "import scipy"
   ]
  },
  {
   "cell_type": "code",
   "execution_count": 3,
   "metadata": {
    "collapsed": false
   },
   "outputs": [
    {
     "name": "stderr",
     "output_type": "stream",
     "text": [
      "Using Theano backend.\n"
     ]
    }
   ],
   "source": [
    "import keras\n",
    "from keras import backend as K\n",
    "from keras.utils.data_utils import get_file\n",
    "from keras.utils.np_utils import to_categorical\n",
    "from keras.models import Sequential\n",
    "from keras.layers import Input, Embedding\n",
    "from keras.layers.core import Reshape, Flatten, Dense, Dropout, Lambda\n",
    "from keras.optimizers import SGD, RMSprop"
   ]
  },
  {
   "cell_type": "code",
   "execution_count": 4,
   "metadata": {
    "collapsed": true
   },
   "outputs": [],
   "source": [
    "vocab_size = 250\n",
    "n_words = 3 # because we use 3-grams as inputs\n",
    "n_embed = 50\n",
    "n_hidden = 200\n",
    "n_output = vocab_size\n",
    "\n",
    "batch_size = 100"
   ]
  },
  {
   "cell_type": "code",
   "execution_count": 14,
   "metadata": {
    "collapsed": false
   },
   "outputs": [],
   "source": [
    "model = Sequential()\n",
    "\n",
    "# Tricky part : needs to turn words into embedded vectors\n",
    "#    Documentation : https://keras.io/layers/embeddings/\n",
    "#    The model will take as Input an integer matrix of size (batch_size, n_words).\n",
    "#    The largest integer (i.e. word index) in the input should be no larger than vocab_size.\n",
    "#    Now model.output_shape == (None, n_words, n_embed), where None is the batch dimension.\n",
    "model.add(Embedding(vocab_size, n_embed, input_length=n_words))\n",
    "model.add(Reshape((n_words*n_embed, ))) # WARNING : does reshape need dim permut' as with TF ?\n",
    "\n",
    "# Standard neural-network layers\n",
    "model.add(Dense(n_hidden, input_shape=(n_words*n_embed,), activation='sigmoid')) # embed_to_hidden\n",
    "model.add(Dense(n_output, input_shape=(n_hidden,), activation='softmax')) # hidden_to_output\n",
    "\n",
    "if False:\n",
    "    # optimizer with default parameters\n",
    "    model.compile(optimizer='rmsprop', loss='categorical_crossentropy', metrics=['accuracy'])\n",
    "else:\n",
    "    # specify LearningRate and Momentum to be consistent with G Hinton Octave code\n",
    "    sgd = SGD(lr=0.1, momentum=0.9, nesterov=False)\n",
    "    model.compile(optimizer=sgd, loss='categorical_crossentropy', metrics=['accuracy'])"
   ]
  },
  {
   "cell_type": "code",
   "execution_count": 15,
   "metadata": {
    "collapsed": true
   },
   "outputs": [],
   "source": [
    "DEBUG = True\n",
    "TEST = True"
   ]
  },
  {
   "cell_type": "code",
   "execution_count": 16,
   "metadata": {
    "collapsed": true
   },
   "outputs": [],
   "source": [
    "if DEBUG:\n",
    "    input_array = np.random.randint(vocab_size, size=(batch_size, n_words))\n",
    "    output_array = model.predict(input_array)\n",
    "    assert output_array.shape == (batch_size, vocab_size)"
   ]
  },
  {
   "cell_type": "code",
   "execution_count": 17,
   "metadata": {
    "collapsed": false
   },
   "outputs": [
    {
     "name": "stdout",
     "output_type": "stream",
     "text": [
      "(100, 3, 50)\n"
     ]
    }
   ],
   "source": [
    "if TEST:\n",
    "    modelE = Sequential()\n",
    "    # Tricky part : needs to turn words into embedded vectors\n",
    "    #    Documentation : https://keras.io/layers/embeddings/\n",
    "    #    The model will take as Input an integer matrix of size (batch_size, n_words).\n",
    "    #    The largest integer (i.e. word index) in the input should be no larger than vocab_size.\n",
    "    #    Now model.output_shape == (None, n_words, n_embed), where None is the batch dimension.\n",
    "    modelE.add(Embedding(vocab_size, n_embed, input_length=n_words))\n",
    "    modelE.compile('rmsprop', 'mse')\n",
    "    input_array = np.random.randint(vocab_size, size=(batch_size, n_words))\n",
    "    output_array = modelE.predict(input_array)\n",
    "    print(output_array.shape)\n",
    "    assert output_array.shape == (batch_size, n_words, n_embed)"
   ]
  },
  {
   "cell_type": "code",
   "execution_count": 18,
   "metadata": {
    "collapsed": false
   },
   "outputs": [
    {
     "name": "stdout",
     "output_type": "stream",
     "text": [
      "(100, 150)\n"
     ]
    }
   ],
   "source": [
    "if TEST:\n",
    "    modelER = Sequential()\n",
    "    modelER.add(Embedding(vocab_size, n_embed, input_length=n_words))\n",
    "    modelER.add(Reshape((n_words*n_embed, )))\n",
    "    # now: model.output_shape == (None, n_words*n_embed, 4)\n",
    "    # note: `None` is the batch dimension\n",
    "    modelER.compile('rmsprop', 'mse')\n",
    "    input_array = np.random.randint(vocab_size, size=(batch_size, n_words))\n",
    "    output_array = modelER.predict(input_array)\n",
    "    print(output_array.shape)\n",
    "    assert output_array.shape == (batch_size, n_words*n_embed)"
   ]
  },
  {
   "cell_type": "code",
   "execution_count": 19,
   "metadata": {
    "collapsed": false
   },
   "outputs": [
    {
     "name": "stdout",
     "output_type": "stream",
     "text": [
      "Epoch 1/5\n",
      "300/300 [==============================] - 0s - loss: 5.6593 - acc: 0.0000e+00     \n",
      "Epoch 2/5\n",
      "300/300 [==============================] - 0s - loss: 5.4980 - acc: 0.0033         \n",
      "Epoch 3/5\n",
      "300/300 [==============================] - 0s - loss: 5.3020 - acc: 0.0100     \n",
      "Epoch 4/5\n",
      "300/300 [==============================] - 0s - loss: 5.1953 - acc: 0.0100     \n",
      "Epoch 5/5\n",
      "300/300 [==============================] - 0s - loss: 5.1642 - acc: 0.0167     \n"
     ]
    }
   ],
   "source": [
    "if TEST:\n",
    "    # generate dummy data\n",
    "    n_test_samples = 300\n",
    "    data = np.random.randint(vocab_size, size=(n_test_samples, n_words))\n",
    "    labels = np.random.randint(vocab_size, size=(n_test_samples, 1))\n",
    "    # we convert the labels to a binary matrix of size (n_test_samples, vocab_size)\n",
    "    # for use with categorical_crossentropy\n",
    "    labels = to_categorical(labels, vocab_size)\n",
    "    # train the model\n",
    "    model.fit(data, labels, nb_epoch=5, batch_size=batch_size)"
   ]
  },
  {
   "cell_type": "code",
   "execution_count": 20,
   "metadata": {
    "collapsed": true
   },
   "outputs": [],
   "source": [
    "from utilities import load_data"
   ]
  },
  {
   "cell_type": "code",
   "execution_count": 21,
   "metadata": {
    "collapsed": false
   },
   "outputs": [
    {
     "name": "stdout",
     "output_type": "stream",
     "text": [
      "(3, 1500, 248)\n",
      "Epoch 1/1\n",
      "1500/1500 [==============================] - 0s - loss: 5.0114 - acc: 0.1147     \n"
     ]
    }
   ],
   "source": [
    "''' SMALL SCALE VERSION TO CHECK IT RUNS FINE '''\n",
    "if TEST:\n",
    "    # get data into (mostly) a single batch as keras.fit takes care of batching\n",
    "    [train_input, train_target, valid_input, valid_target, test_input, test_target, vocab] = load_data(1500)\n",
    "    print(train_input.shape)\n",
    "    data = train_input[:,:,0].T\n",
    "    target = train_target[:,:,0].T\n",
    "    labels = to_categorical(target, vocab_size)\n",
    "    # train the model\n",
    "    model.fit(data, labels, nb_epoch=1, batch_size=batch_size)"
   ]
  },
  {
   "cell_type": "code",
   "execution_count": 22,
   "metadata": {
    "collapsed": false
   },
   "outputs": [
    {
     "name": "stdout",
     "output_type": "stream",
     "text": [
      "(3, 150000, 2)\n",
      "(150000, 3)\n",
      "(150000, 1)\n",
      "(150000, 250)\n",
      "FIT THE MODEL\n",
      "Epoch 1/10\n",
      "150000/150000 [==============================] - 8s - loss: 3.8425 - acc: 0.2325     \n",
      "Epoch 2/10\n",
      "150000/150000 [==============================] - 8s - loss: 3.1712 - acc: 0.2919     \n",
      "Epoch 3/10\n",
      "150000/150000 [==============================] - 8s - loss: 2.9836 - acc: 0.3136     \n",
      "Epoch 4/10\n",
      "150000/150000 [==============================] - 8s - loss: 2.8769 - acc: 0.3277     \n",
      "Epoch 5/10\n",
      "150000/150000 [==============================] - 8s - loss: 2.7989 - acc: 0.3367     \n",
      "Epoch 6/10\n",
      "150000/150000 [==============================] - 8s - loss: 2.7385 - acc: 0.3458     \n",
      "Epoch 7/10\n",
      "150000/150000 [==============================] - 8s - loss: 2.6891 - acc: 0.3525     \n",
      "Epoch 8/10\n",
      "150000/150000 [==============================] - 8s - loss: 2.6469 - acc: 0.3580     \n",
      "Epoch 9/10\n",
      "150000/150000 [==============================] - 8s - loss: 2.6126 - acc: 0.3629     \n",
      "Epoch 10/10\n",
      "150000/150000 [==============================] - 8s - loss: 2.5793 - acc: 0.3674     \n"
     ]
    },
    {
     "data": {
      "text/plain": [
       "<keras.callbacks.History at 0x7f01197bb490>"
      ]
     },
     "execution_count": 22,
     "metadata": {},
     "output_type": "execute_result"
    }
   ],
   "source": [
    "# get data into (mostly) a single batch as keras.fit takes care of batching\n",
    "[train_input, train_target, valid_input, valid_target, test_input, test_target, vocab] = load_data(150000)\n",
    "assert(train_input.shape[-1]==2) # to insure most of the data is covered\n",
    "data = train_input[:,:,0].T\n",
    "target = train_target[:,:,0].T\n",
    "labels = to_categorical(target, vocab_size)\n",
    "# some debug information\n",
    "print(train_input.shape)\n",
    "print(data.shape)\n",
    "print(target.shape)\n",
    "print(labels.shape)\n",
    "# train the model\n",
    "print('FIT THE MODEL')\n",
    "model.fit(data, labels, nb_epoch=10, batch_size=batch_size)"
   ]
  },
  {
   "cell_type": "code",
   "execution_count": null,
   "metadata": {
    "collapsed": true
   },
   "outputs": [],
   "source": []
  }
 ],
 "metadata": {
  "kernelspec": {
   "display_name": "Python 2",
   "language": "python",
   "name": "python2"
  },
  "language_info": {
   "codemirror_mode": {
    "name": "ipython",
    "version": 2
   },
   "file_extension": ".py",
   "mimetype": "text/x-python",
   "name": "python",
   "nbconvert_exporter": "python",
   "pygments_lexer": "ipython2",
   "version": "2.7.11"
  }
 },
 "nbformat": 4,
 "nbformat_minor": 0
}
