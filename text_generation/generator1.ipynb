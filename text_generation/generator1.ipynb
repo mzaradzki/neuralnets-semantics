{
 "cells": [
  {
   "cell_type": "code",
   "execution_count": 1,
   "metadata": {
    "collapsed": false
   },
   "outputs": [
    {
     "name": "stderr",
     "output_type": "stream",
     "text": [
      "Using gpu device 0: Tesla K80 (CNMeM is disabled, cuDNN Version is too old. Update to v5, was 3007.)\n"
     ]
    }
   ],
   "source": [
    "from theano.sandbox import cuda"
   ]
  },
  {
   "cell_type": "code",
   "execution_count": 2,
   "metadata": {
    "collapsed": false
   },
   "outputs": [],
   "source": [
    "%matplotlib inline\n",
    "#import utils_modified; reload(utils_modified)\n",
    "#from utils_modified import *\n",
    "from __future__ import division, print_function"
   ]
  },
  {
   "cell_type": "code",
   "execution_count": 3,
   "metadata": {
    "collapsed": true
   },
   "outputs": [],
   "source": [
    "import numpy as np\n",
    "import random\n",
    "import sys"
   ]
  },
  {
   "cell_type": "code",
   "execution_count": 4,
   "metadata": {
    "collapsed": false
   },
   "outputs": [
    {
     "name": "stderr",
     "output_type": "stream",
     "text": [
      "Using Theano backend.\n"
     ]
    }
   ],
   "source": [
    "from keras.preprocessing.sequence import pad_sequences\n",
    "from keras.layers import Input, Dense, Embedding, Activation, LSTM, Flatten, Dropout, Lambda\n",
    "from keras.models import Model, Sequential\n",
    "#from keras.layers import merge # deprecated in Keras 2\n",
    "from keras.layers.merge import Add, add\n",
    "#from keras.engine.topology import Merge # deprecated in Keras 2\n",
    "from keras.layers.normalization import BatchNormalization\n",
    "from keras.optimizers import SGD, RMSprop, Adam\n",
    "from keras.layers.convolutional import *\n",
    "from keras.utils.data_utils import get_file\n",
    "from keras.utils.np_utils import to_categorical"
   ]
  },
  {
   "cell_type": "markdown",
   "metadata": {
    "collapsed": false
   },
   "source": [
    "### Usefull Keras guides to get started\n",
    "* https://keras.io/getting-started/sequential-model-guide/\n",
    "* https://keras.io/getting-started/functional-api-guide/"
   ]
  },
  {
   "cell_type": "code",
   "execution_count": 5,
   "metadata": {
    "collapsed": false
   },
   "outputs": [
    {
     "name": "stdout",
     "output_type": "stream",
     "text": [
      "corpus length: 600901\n",
      "total chars: 85\n",
      "nb sequences: 200287\n"
     ]
    }
   ],
   "source": [
    "# https://github.com/fchollet/keras/blob/master/examples/lstm_text_generation.py\n",
    "path = get_file('nietzsche.txt', origin=\"https://s3.amazonaws.com/text-datasets/nietzsche.txt\")\n",
    "text = open(path).read()#.lower()\n",
    "print('corpus length:', len(text))\n",
    "\n",
    "chars = sorted(list(set(text)))\n",
    "print('total chars:', len(chars))\n",
    "char_indices = dict((c, i) for i, c in enumerate(chars))\n",
    "indices_char = dict((i, c) for i, c in enumerate(chars))\n",
    "\n",
    "# cut the text in semi-redundant sequences of maxlen characters\n",
    "maxlen = 40\n",
    "step = 3\n",
    "sentences = []\n",
    "next_chars = []\n",
    "for i in range(0, len(text) - maxlen, step):\n",
    "    sentences.append(text[i: i + maxlen])\n",
    "    next_chars.append(text[i + maxlen])\n",
    "print('nb sequences:', len(sentences))"
   ]
  },
  {
   "cell_type": "code",
   "execution_count": 6,
   "metadata": {
    "collapsed": true
   },
   "outputs": [],
   "source": [
    "lag = 6"
   ]
  },
  {
   "cell_type": "code",
   "execution_count": 7,
   "metadata": {
    "collapsed": true
   },
   "outputs": [],
   "source": [
    "idx = [char_indices[c] for c in text]\n",
    "\n",
    "Xs = []\n",
    "for l in range(lag):\n",
    "    cdat = [idx[i+l] for i in xrange(0, len(idx)-1-lag, lag)]\n",
    "    X = np.stack(cdat[:-2])\n",
    "    Xs.append(X)\n",
    "\n",
    "cdat = [idx[i+(l+1)] for i in xrange(0, len(idx)-1-lag, lag)]\n",
    "Y = np.stack(cdat[:-2])"
   ]
  },
  {
   "cell_type": "code",
   "execution_count": 8,
   "metadata": {
    "collapsed": false
   },
   "outputs": [
    {
     "data": {
      "text/plain": [
       "(6, (100147,))"
      ]
     },
     "execution_count": 8,
     "metadata": {},
     "output_type": "execute_result"
    }
   ],
   "source": [
    "len(Xs), Xs[0].shape"
   ]
  },
  {
   "cell_type": "markdown",
   "metadata": {},
   "source": [
    "### Utility to inspect model predictive power"
   ]
  },
  {
   "cell_type": "code",
   "execution_count": 9,
   "metadata": {
    "collapsed": true
   },
   "outputs": [],
   "source": [
    "def show_top_next(mdl, inp):\n",
    "    pad_inp = (' '*lag)+inp\n",
    "    idxs = [char_indices[c] for c in pad_inp][-lag:]\n",
    "    ps = mdl.predict([np.array([i]) for i in idxs])\n",
    "    probas = ps[0]/np.sum(ps)\n",
    "    for i in range(5):\n",
    "        index = np.random.choice(range(len(chars)), size=None, replace=True, p=probas)\n",
    "        print(inp+chars[index])\n",
    "    print('')\n",
    "    \n",
    "teststrs = ['this i','hersel','himsel','moral','moralit','knowledg','logica','hypothesi']"
   ]
  },
  {
   "cell_type": "markdown",
   "metadata": {},
   "source": [
    "### Unrolled RNN built with a loop"
   ]
  },
  {
   "cell_type": "code",
   "execution_count": 10,
   "metadata": {
    "collapsed": true
   },
   "outputs": [],
   "source": [
    "hdim = 250"
   ]
  },
  {
   "cell_type": "code",
   "execution_count": 11,
   "metadata": {
    "collapsed": false
   },
   "outputs": [],
   "source": [
    "def Maker1():\n",
    "    inputs = [Input(shape=(1,), dtype='int64') for i in range(lag)]\n",
    "\n",
    "    E = Embedding(output_dim=hdim, input_dim=len(chars), input_length=1)\n",
    "\n",
    "    Di2h = Dense(hdim, activation='relu')\n",
    "    Dh2h = Dense(hdim, activation='relu', kernel_initializer='identity')\n",
    "\n",
    "    #hidden = ... CONSTANT ZERO TENSOR IN KERAS ?\n",
    "\n",
    "    e = Di2h(Flatten()(E(inputs[0])))\n",
    "    hidden = e\n",
    "    for i in range(1,lag):\n",
    "        e = Di2h(Flatten()(E(inputs[i])))\n",
    "        #hidden = merge([e, Dh2h(hidden)], mode='sum')\n",
    "        hidden = add([e, Dh2h(hidden)])\n",
    "    predictions = Dense(len(chars), activation='softmax')(hidden)\n",
    "\n",
    "    model = Model(inputs=inputs, outputs=predictions)\n",
    "\n",
    "    model.compile(optimizer=Adam(1e-3), loss='categorical_crossentropy', metrics=['accuracy'])\n",
    "    \n",
    "    return model\n",
    "\n",
    "model1 = Maker1()"
   ]
  },
  {
   "cell_type": "code",
   "execution_count": 37,
   "metadata": {
    "collapsed": false
   },
   "outputs": [
    {
     "name": "stdout",
     "output_type": "stream",
     "text": [
      "Epoch 1/25\n",
      "100147/100147 [==============================] - 6s - loss: 1.6089 - acc: 0.5183     \n",
      "Epoch 2/25\n",
      "100147/100147 [==============================] - 6s - loss: 1.6038 - acc: 0.5200     \n",
      "Epoch 3/25\n",
      "100147/100147 [==============================] - 6s - loss: 1.5975 - acc: 0.5203     \n",
      "Epoch 4/25\n",
      "100147/100147 [==============================] - 6s - loss: 1.5923 - acc: 0.5221     \n",
      "Epoch 5/25\n",
      "100147/100147 [==============================] - 6s - loss: 1.5870 - acc: 0.5221     \n",
      "Epoch 6/25\n",
      "100147/100147 [==============================] - 6s - loss: 1.5806 - acc: 0.5242     \n",
      "Epoch 7/25\n",
      "100147/100147 [==============================] - 6s - loss: 1.5755 - acc: 0.5273     \n",
      "Epoch 8/25\n",
      "100147/100147 [==============================] - 6s - loss: 1.5709 - acc: 0.5267     \n",
      "Epoch 9/25\n",
      "100147/100147 [==============================] - 6s - loss: 1.5659 - acc: 0.5276     \n",
      "Epoch 10/25\n",
      "100147/100147 [==============================] - 6s - loss: 1.5607 - acc: 0.5300     \n",
      "Epoch 11/25\n",
      "100147/100147 [==============================] - 6s - loss: 1.5570 - acc: 0.5309     \n",
      "Epoch 12/25\n",
      "100147/100147 [==============================] - 6s - loss: 1.5518 - acc: 0.5303     \n",
      "Epoch 13/25\n",
      "100147/100147 [==============================] - 6s - loss: 1.5474 - acc: 0.5325     \n",
      "Epoch 14/25\n",
      "100147/100147 [==============================] - 6s - loss: 1.5443 - acc: 0.5335     \n",
      "Epoch 15/25\n",
      "100147/100147 [==============================] - 6s - loss: 1.5399 - acc: 0.5345     \n",
      "Epoch 16/25\n",
      "100147/100147 [==============================] - 6s - loss: 1.5356 - acc: 0.5347     \n",
      "Epoch 17/25\n",
      "100147/100147 [==============================] - 6s - loss: 1.5334 - acc: 0.5362     \n",
      "Epoch 18/25\n",
      "100147/100147 [==============================] - 6s - loss: 1.5299 - acc: 0.5358     \n",
      "Epoch 19/25\n",
      "100147/100147 [==============================] - 6s - loss: 1.5254 - acc: 0.5379     \n",
      "Epoch 20/25\n",
      "100147/100147 [==============================] - 6s - loss: 1.5225 - acc: 0.5381     \n",
      "Epoch 21/25\n",
      "100147/100147 [==============================] - 6s - loss: 1.5192 - acc: 0.5386     \n",
      "Epoch 22/25\n",
      "100147/100147 [==============================] - 6s - loss: 1.5160 - acc: 0.5389     \n",
      "Epoch 23/25\n",
      "100147/100147 [==============================] - 6s - loss: 1.5107 - acc: 0.5404     \n",
      "Epoch 24/25\n",
      "100147/100147 [==============================] - 6s - loss: 1.5106 - acc: 0.5396     \n",
      "Epoch 25/25\n",
      "100147/100147 [==============================] - 6s - loss: 1.5072 - acc: 0.5424     \n"
     ]
    }
   ],
   "source": [
    "model1.optimizer.lr = 1e-3\n",
    "hist1 = model1.fit(Xs, to_categorical(Y,len(chars)), batch_size=100, epochs=25)"
   ]
  },
  {
   "cell_type": "code",
   "execution_count": 38,
   "metadata": {
    "collapsed": false
   },
   "outputs": [
    {
     "name": "stdout",
     "output_type": "stream",
     "text": [
      "this is\n",
      "this is\n",
      "this im\n",
      "this it\n",
      "this is\n",
      "\n",
      "hersele\n",
      "hersel \n",
      "hersels\n",
      "hersel;\n",
      "herseld\n",
      "\n",
      "himself\n",
      "himself\n",
      "himselt\n",
      "himself\n",
      "himself\n",
      "\n",
      "morali\n",
      "moral,\n",
      "morali\n",
      "morali\n",
      "morali\n",
      "\n",
      "morality\n",
      "morality\n",
      "morality\n",
      "morality\n",
      "morality\n",
      "\n",
      "knowledge\n",
      "knowledge\n",
      "knowledge\n",
      "knowledge\n",
      "knowledge\n",
      "\n",
      "logical\n",
      "logical\n",
      "logical\n",
      "logical\n",
      "logical\n",
      "\n",
      "hypothesis\n",
      "hypothesik\n",
      "hypothesis\n",
      "hypothesis\n",
      "hypothesis\n",
      "\n"
     ]
    }
   ],
   "source": [
    "for teststr in teststrs:\n",
    "    show_top_next(model1, teststr)"
   ]
  },
  {
   "cell_type": "markdown",
   "metadata": {},
   "source": [
    "### Unrolled RNN with BatchNormalization"
   ]
  },
  {
   "cell_type": "code",
   "execution_count": 13,
   "metadata": {
    "collapsed": false
   },
   "outputs": [],
   "source": [
    "def Maker2():\n",
    "    inputs = [Input(shape=(1,), dtype='int64') for i in range(lag)]\n",
    "\n",
    "    E = Embedding(output_dim=hdim, input_dim=len(chars), input_length=1)\n",
    "\n",
    "    Di2h = Dense(hdim, activation='relu')\n",
    "    Dh2h = Dense(hdim, activation='relu', kernel_initializer='identity')\n",
    "\n",
    "    #hidden = ... CONSTANT ZERO TENSOR IN KERAS ?\n",
    "    \n",
    "    e = Di2h(Flatten()(E(inputs[0])))\n",
    "    hidden = BatchNormalization()(e)\n",
    "    for i in range(1,lag):\n",
    "        e = Di2h(Flatten()(E(inputs[i])))\n",
    "        #hidden = merge([BatchNormalization()(e), Dh2h(hidden)], mode='sum') # deprecated\n",
    "        hidden = add([BatchNormalization()(e), Dh2h(hidden)])\n",
    "    predictions = Dense(len(chars), activation='softmax')(hidden)\n",
    "\n",
    "    model = Model(inputs=inputs, outputs=predictions)\n",
    "\n",
    "    model.compile(optimizer=Adam(1e-3), loss='categorical_crossentropy', metrics=['accuracy'])\n",
    "    \n",
    "    return model\n",
    "\n",
    "model2 = Maker2()"
   ]
  },
  {
   "cell_type": "code",
   "execution_count": 41,
   "metadata": {
    "collapsed": false
   },
   "outputs": [
    {
     "name": "stdout",
     "output_type": "stream",
     "text": [
      "Epoch 1/25\n",
      "100147/100147 [==============================] - 16s - loss: 2.3975 - acc: 0.3237    \n",
      "Epoch 2/25\n",
      "100147/100147 [==============================] - 16s - loss: 2.1611 - acc: 0.3835    \n",
      "Epoch 3/25\n",
      "100147/100147 [==============================] - 16s - loss: 2.0618 - acc: 0.4091    \n",
      "Epoch 4/25\n",
      "100147/100147 [==============================] - 16s - loss: 1.9879 - acc: 0.4287    \n",
      "Epoch 5/25\n",
      "100147/100147 [==============================] - 16s - loss: 1.9325 - acc: 0.4439    \n",
      "Epoch 6/25\n",
      "100147/100147 [==============================] - 16s - loss: 1.8864 - acc: 0.4551    \n",
      "Epoch 7/25\n",
      "100147/100147 [==============================] - 16s - loss: 1.8480 - acc: 0.4637    \n",
      "Epoch 8/25\n",
      "100147/100147 [==============================] - 16s - loss: 1.8164 - acc: 0.4707    \n",
      "Epoch 9/25\n",
      "100147/100147 [==============================] - 16s - loss: 1.7860 - acc: 0.4792    \n",
      "Epoch 10/25\n",
      "100147/100147 [==============================] - 16s - loss: 1.7603 - acc: 0.4844    \n",
      "Epoch 11/25\n",
      "100147/100147 [==============================] - 16s - loss: 1.7356 - acc: 0.4902    \n",
      "Epoch 12/25\n",
      "100147/100147 [==============================] - 16s - loss: 1.7180 - acc: 0.4943    \n",
      "Epoch 13/25\n",
      "100147/100147 [==============================] - 16s - loss: 1.6945 - acc: 0.4988    \n",
      "Epoch 14/25\n",
      "100147/100147 [==============================] - 16s - loss: 1.6809 - acc: 0.5034    \n",
      "Epoch 15/25\n",
      "100147/100147 [==============================] - 16s - loss: 1.6651 - acc: 0.5050    \n",
      "Epoch 16/25\n",
      "100147/100147 [==============================] - 16s - loss: 1.6523 - acc: 0.5076    \n",
      "Epoch 17/25\n",
      "100147/100147 [==============================] - 16s - loss: 1.6415 - acc: 0.5113    \n",
      "Epoch 18/25\n",
      "100147/100147 [==============================] - 16s - loss: 1.6263 - acc: 0.5142    \n",
      "Epoch 19/25\n",
      "100147/100147 [==============================] - 16s - loss: 1.6157 - acc: 0.5170    \n",
      "Epoch 20/25\n",
      "100147/100147 [==============================] - 16s - loss: 1.6040 - acc: 0.5183    \n",
      "Epoch 21/25\n",
      "100147/100147 [==============================] - 16s - loss: 1.5947 - acc: 0.5202    \n",
      "Epoch 22/25\n",
      "100147/100147 [==============================] - 16s - loss: 1.5841 - acc: 0.5237    \n",
      "Epoch 23/25\n",
      "100147/100147 [==============================] - 16s - loss: 1.5738 - acc: 0.5253    \n",
      "Epoch 24/25\n",
      "100147/100147 [==============================] - 16s - loss: 1.5651 - acc: 0.5275    \n",
      "Epoch 25/25\n",
      "100147/100147 [==============================] - 16s - loss: 1.5575 - acc: 0.5296    \n"
     ]
    }
   ],
   "source": [
    "model2.optimizer.lr = 1e-3\n",
    "hist2 = model2.fit(Xs, to_categorical(Y,len(chars)), batch_size=100, epochs=25)"
   ]
  },
  {
   "cell_type": "code",
   "execution_count": 57,
   "metadata": {
    "collapsed": false
   },
   "outputs": [
    {
     "name": "stdout",
     "output_type": "stream",
     "text": [
      "this ia\n",
      "this in\n",
      "this is\n",
      "this in\n",
      "this is\n",
      "\n",
      "hersels\n",
      "hersel \n",
      "hersels\n",
      "hersels\n",
      "hersel \n",
      "\n",
      "himself\n",
      "himself\n",
      "himself\n",
      "himself\n",
      "himself\n",
      "\n",
      "morali\n",
      "moral.\n",
      "morali\n",
      "morali\n",
      "moral \n",
      "\n",
      "morality\n",
      "morality\n",
      "morality\n",
      "morality\n",
      "morality\n",
      "\n",
      "knowledge\n",
      "knowledge\n",
      "knowledge\n",
      "knowledge\n",
      "knowledge\n",
      "\n",
      "logical\n",
      "logical\n",
      "logical\n",
      "logical\n",
      "logical\n",
      "\n",
      "hypothesil\n",
      "hypothesic\n",
      "hypothesil\n",
      "hypothesis\n",
      "hypothesis\n",
      "\n"
     ]
    }
   ],
   "source": [
    "for teststr in teststrs:\n",
    "    show_top_next(model2, teststr)"
   ]
  },
  {
   "cell_type": "markdown",
   "metadata": {},
   "source": [
    "### Compare training convergence of the 2 models"
   ]
  },
  {
   "cell_type": "code",
   "execution_count": 56,
   "metadata": {
    "collapsed": false
   },
   "outputs": [
    {
     "data": {
      "image/png": "[encoded data removed]",
      "text/plain": [
       "<matplotlib.figure.Figure at 0x7fee36ed2d10>"
      ]
     },
     "metadata": {},
     "output_type": "display_data"
    }
   ],
   "source": [
    "import matplotlib.pyplot as plt\n",
    "plt.figure(figsize=(10,7))\n",
    "plt.plot(hist1.history['loss'])\n",
    "plt.plot(hist2.history['loss'])\n",
    "#plt.title('model loss')\n",
    "plt.ylabel('loss')\n",
    "plt.xlabel('epoch')\n",
    "plt.legend(['without BN','with BN'], loc='upper right')\n",
    "plt.show()"
   ]
  },
  {
   "cell_type": "code",
   "execution_count": null,
   "metadata": {
    "collapsed": true
   },
   "outputs": [],
   "source": []
  }
 ],
 "metadata": {
  "kernelspec": {
   "display_name": "Python 2",
   "language": "python",
   "name": "python2"
  },
  "language_info": {
   "codemirror_mode": {
    "name": "ipython",
    "version": 2
   },
   "file_extension": ".py",
   "mimetype": "text/x-python",
   "name": "python",
   "nbconvert_exporter": "python",
   "pygments_lexer": "ipython2",
   "version": "2.7.13"
  }
 },
 "nbformat": 4,
 "nbformat_minor": 0
}
