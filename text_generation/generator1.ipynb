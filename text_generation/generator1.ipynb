{
 "cells": [
  {
   "cell_type": "code",
   "execution_count": 1,
   "metadata": {
    "collapsed": false
   },
   "outputs": [
    {
     "name": "stderr",
     "output_type": "stream",
     "text": [
      "Using gpu device 0: Tesla K80 (CNMeM is disabled)\n"
     ]
    }
   ],
   "source": [
    "from theano.sandbox import cuda"
   ]
  },
  {
   "cell_type": "code",
   "execution_count": 2,
   "metadata": {
    "collapsed": false
   },
   "outputs": [
    {
     "name": "stderr",
     "output_type": "stream",
     "text": [
      "Using Theano backend.\n"
     ]
    }
   ],
   "source": [
    "%matplotlib inline\n",
    "import utils_modified; reload(utils_modified)\n",
    "from utils_modified import *\n",
    "from __future__ import division, print_function"
   ]
  },
  {
   "cell_type": "code",
   "execution_count": 3,
   "metadata": {
    "collapsed": true
   },
   "outputs": [],
   "source": [
    "import numpy as np\n",
    "import random\n",
    "import sys"
   ]
  },
  {
   "cell_type": "code",
   "execution_count": 4,
   "metadata": {
    "collapsed": false
   },
   "outputs": [],
   "source": [
    "from keras.preprocessing.sequence import pad_sequences\n",
    "from keras.layers import Input, Dense, Embedding, Activation, LSTM, merge, Flatten, Dropout, Lambda\n",
    "from keras.models import Model, Sequential\n",
    "from keras.engine.topology import Merge\n",
    "from keras.layers.normalization import BatchNormalization\n",
    "from keras.optimizers import SGD, RMSprop, Adam\n",
    "from keras.layers.convolutional import *\n",
    "from keras.utils.data_utils import get_file"
   ]
  },
  {
   "cell_type": "code",
   "execution_count": 5,
   "metadata": {
    "collapsed": false
   },
   "outputs": [],
   "source": [
    "# https://keras.io/getting-started/sequential-model-guide/"
   ]
  },
  {
   "cell_type": "code",
   "execution_count": 6,
   "metadata": {
    "collapsed": false
   },
   "outputs": [
    {
     "name": "stdout",
     "output_type": "stream",
     "text": [
      "corpus length: 600901\n",
      "total chars: 85\n",
      "nb sequences: 200287\n"
     ]
    }
   ],
   "source": [
    "# https://github.com/fchollet/keras/blob/master/examples/lstm_text_generation.py\n",
    "path = get_file('nietzsche.txt', origin=\"https://s3.amazonaws.com/text-datasets/nietzsche.txt\")\n",
    "text = open(path).read()#.lower()\n",
    "print('corpus length:', len(text))\n",
    "\n",
    "chars = sorted(list(set(text)))\n",
    "print('total chars:', len(chars))\n",
    "char_indices = dict((c, i) for i, c in enumerate(chars))\n",
    "indices_char = dict((i, c) for i, c in enumerate(chars))\n",
    "\n",
    "# cut the text in semi-redundant sequences of maxlen characters\n",
    "maxlen = 40\n",
    "step = 3\n",
    "sentences = []\n",
    "next_chars = []\n",
    "for i in range(0, len(text) - maxlen, step):\n",
    "    sentences.append(text[i: i + maxlen])\n",
    "    next_chars.append(text[i + maxlen])\n",
    "print('nb sequences:', len(sentences))"
   ]
  },
  {
   "cell_type": "code",
   "execution_count": 7,
   "metadata": {
    "collapsed": true
   },
   "outputs": [],
   "source": [
    "lag = 6"
   ]
  },
  {
   "cell_type": "code",
   "execution_count": 8,
   "metadata": {
    "collapsed": true
   },
   "outputs": [],
   "source": [
    "idx = [char_indices[c] for c in text]\n",
    "\n",
    "Xs = []\n",
    "for l in range(lag):\n",
    "    cdat = [idx[i+l] for i in xrange(0, len(idx)-1-lag, lag)]\n",
    "    X = np.stack(cdat[:-2])\n",
    "    Xs.append(X)\n",
    "\n",
    "cdat = [idx[i+(l+1)] for i in xrange(0, len(idx)-1-lag, lag)]\n",
    "Y = np.stack(cdat[:-2])"
   ]
  },
  {
   "cell_type": "markdown",
   "metadata": {},
   "source": [
    "### Utility to inspect model predictive power"
   ]
  },
  {
   "cell_type": "code",
   "execution_count": null,
   "metadata": {
    "collapsed": true
   },
   "outputs": [],
   "source": [
    "def show_top_next(mdl, inp):\n",
    "    pad_inp = (' '*lag)+inp\n",
    "    idxs = [char_indices[c] for c in pad_inp][-lag:]\n",
    "    ps = mdl.predict([np.array([i]) for i in idxs])\n",
    "    probas = ps[0]/np.sum(ps)\n",
    "    for i in range(5):\n",
    "        index = np.random.choice(range(len(chars)), size=None, replace=True, p=probas)\n",
    "        print(inp+chars[index])\n",
    "    print('')\n",
    "    \n",
    "teststrs = ['this i','hersel','himsel','moral','moralit','knowledg','logica','hypothesi']"
   ]
  },
  {
   "cell_type": "markdown",
   "metadata": {},
   "source": [
    "### Unrolled RNN built with a loop"
   ]
  },
  {
   "cell_type": "code",
   "execution_count": null,
   "metadata": {
    "collapsed": true
   },
   "outputs": [],
   "source": [
    "hdim = 250"
   ]
  },
  {
   "cell_type": "code",
   "execution_count": 38,
   "metadata": {
    "collapsed": false
   },
   "outputs": [],
   "source": [
    "def Maker1():\n",
    "    inputs = [Input(shape=(1,), dtype='int64') for i in range(lag)]\n",
    "\n",
    "    E = Embedding(output_dim=hdim, input_dim=len(chars), input_length=1)\n",
    "\n",
    "    Di2h = Dense(hdim, activation='relu')\n",
    "    Dh2h = Dense(hdim, activation='relu', init='identity')\n",
    "\n",
    "    #hidden = ... CONSTANT ZERO TENSOR IN KERAS ?\n",
    "\n",
    "    e = Di2h(Flatten()(E(inputs[0])))\n",
    "    hidden = e\n",
    "    for i in range(1,lag):\n",
    "        e = Di2h(Flatten()(E(inputs[i])))\n",
    "        hidden = merge([e, Dh2h(hidden)], mode='sum')\n",
    "    predictions = Dense(len(chars), activation='softmax')(hidden)\n",
    "\n",
    "    model = Model(input=inputs, output=predictions)\n",
    "\n",
    "    model.compile(optimizer=Adam(1e-3), loss='categorical_crossentropy', metrics=['accuracy'])\n",
    "    \n",
    "    return model\n",
    "\n",
    "model1 = Maker1()"
   ]
  },
  {
   "cell_type": "code",
   "execution_count": 39,
   "metadata": {
    "collapsed": false
   },
   "outputs": [
    {
     "name": "stdout",
     "output_type": "stream",
     "text": [
      "Epoch 1/15\n",
      "100147/100147 [==============================] - 7s - loss: 2.4770 - acc: 0.2992     \n",
      "Epoch 2/15\n",
      "100147/100147 [==============================] - 7s - loss: 2.1802 - acc: 0.3721     \n",
      "Epoch 3/15\n",
      "100147/100147 [==============================] - 7s - loss: 2.0821 - acc: 0.4013     \n",
      "Epoch 4/15\n",
      "100147/100147 [==============================] - 7s - loss: 2.0155 - acc: 0.4189     \n",
      "Epoch 5/15\n",
      "100147/100147 [==============================] - 7s - loss: 1.9661 - acc: 0.4329     \n",
      "Epoch 6/15\n",
      "100147/100147 [==============================] - 7s - loss: 1.9227 - acc: 0.4433     \n",
      "Epoch 7/15\n",
      "100147/100147 [==============================] - 7s - loss: 1.8880 - acc: 0.4531     \n",
      "Epoch 8/15\n",
      "100147/100147 [==============================] - 7s - loss: 1.8595 - acc: 0.4603     \n",
      "Epoch 9/15\n",
      "100147/100147 [==============================] - 7s - loss: 1.8358 - acc: 0.4661     \n",
      "Epoch 10/15\n",
      "100147/100147 [==============================] - 7s - loss: 1.8130 - acc: 0.4715     \n",
      "Epoch 11/15\n",
      "100147/100147 [==============================] - 7s - loss: 1.7941 - acc: 0.4765     \n",
      "Epoch 12/15\n",
      "100147/100147 [==============================] - 7s - loss: 1.7776 - acc: 0.4797     \n",
      "Epoch 13/15\n",
      "100147/100147 [==============================] - 7s - loss: 1.7598 - acc: 0.4852     \n",
      "Epoch 14/15\n",
      "100147/100147 [==============================] - 7s - loss: 1.7454 - acc: 0.4874     \n",
      "Epoch 15/15\n",
      "100147/100147 [==============================] - 7s - loss: 1.7325 - acc: 0.4906     \n"
     ]
    }
   ],
   "source": [
    "model1.optimizer.lr = 1e-3\n",
    "hist1 = model1.fit(Xs, to_categorical(Y,len(chars)), batch_size=100, nb_epoch=15)"
   ]
  },
  {
   "cell_type": "code",
   "execution_count": 43,
   "metadata": {
    "collapsed": false
   },
   "outputs": [
    {
     "name": "stdout",
     "output_type": "stream",
     "text": [
      "this in\n",
      "this ig\n",
      "this in\n",
      "this ic\n",
      "this in\n",
      "\n",
      "herseli\n",
      "hersel:\n",
      "herseli\n",
      "herselt\n",
      "hersell\n",
      "\n",
      "himself\n",
      "himself\n",
      "himself\n",
      "himself\n",
      "himself\n",
      "\n",
      "moral\"\n",
      "morali\n",
      "moraly\n",
      "morali\n",
      "moral \n",
      "\n",
      "morality\n",
      "morality\n",
      "morality\n",
      "morality\n",
      "morality\n",
      "\n",
      "knowledge\n",
      "knowledge\n",
      "knowledge\n",
      "knowledge\n",
      "knowledge\n",
      "\n",
      "logicab\n",
      "logical\n",
      "logical\n",
      "logical\n",
      "logical\n",
      "\n",
      "hypothesiv\n",
      "hypothesis\n",
      "hypothesim\n",
      "hypothesis\n",
      "hypothesim\n",
      "\n"
     ]
    }
   ],
   "source": [
    "for teststr in teststrs:\n",
    "    show_top_next(model1, teststr)"
   ]
  },
  {
   "cell_type": "markdown",
   "metadata": {},
   "source": [
    "### Unrolled RNN with BatchNormalization"
   ]
  },
  {
   "cell_type": "code",
   "execution_count": 40,
   "metadata": {
    "collapsed": false
   },
   "outputs": [],
   "source": [
    "def Maker2():\n",
    "    inputs = [Input(shape=(1,), dtype='int64') for i in range(lag)]\n",
    "\n",
    "    E = Embedding(output_dim=hdim, input_dim=len(chars), input_length=1)\n",
    "\n",
    "    Di2h = Dense(hdim, activation='relu')\n",
    "    Dh2h = Dense(hdim, activation='relu', init='identity')\n",
    "\n",
    "    #hidden = ... CONSTANT ZERO TENSOR IN KERAS ?\n",
    "    \n",
    "    e = Di2h(Flatten()(E(inputs[0])))\n",
    "    hidden = BatchNormalization()(e)\n",
    "    for i in range(1,lag):\n",
    "        e = Di2h(Flatten()(E(inputs[i])))\n",
    "        hidden = merge([BatchNormalization()(e), Dh2h(hidden)], mode='sum')\n",
    "    predictions = Dense(len(chars), activation='softmax')(hidden)\n",
    "\n",
    "    model = Model(input=inputs, output=predictions)\n",
    "\n",
    "    model.compile(optimizer=Adam(1e-3), loss='categorical_crossentropy', metrics=['accuracy'])\n",
    "    \n",
    "    return model\n",
    "\n",
    "model2 = Maker2()"
   ]
  },
  {
   "cell_type": "code",
   "execution_count": 41,
   "metadata": {
    "collapsed": false
   },
   "outputs": [
    {
     "name": "stdout",
     "output_type": "stream",
     "text": [
      "Epoch 1/15\n",
      "100147/100147 [==============================] - 18s - loss: 2.3919 - acc: 0.3251    \n",
      "Epoch 2/15\n",
      "100147/100147 [==============================] - 18s - loss: 2.1572 - acc: 0.3842    \n",
      "Epoch 3/15\n",
      "100147/100147 [==============================] - 18s - loss: 2.0616 - acc: 0.4096    \n",
      "Epoch 4/15\n",
      "100147/100147 [==============================] - 18s - loss: 1.9904 - acc: 0.4274    \n",
      "Epoch 5/15\n",
      "100147/100147 [==============================] - 18s - loss: 1.9359 - acc: 0.4401    \n",
      "Epoch 6/15\n",
      "100147/100147 [==============================] - 18s - loss: 1.8863 - acc: 0.4532    \n",
      "Epoch 7/15\n",
      "100147/100147 [==============================] - 18s - loss: 1.8487 - acc: 0.4613    \n",
      "Epoch 8/15\n",
      "100147/100147 [==============================] - 18s - loss: 1.8188 - acc: 0.4695    \n",
      "Epoch 9/15\n",
      "100147/100147 [==============================] - 18s - loss: 1.7861 - acc: 0.4782    \n",
      "Epoch 10/15\n",
      "100147/100147 [==============================] - 18s - loss: 1.7590 - acc: 0.4845    \n",
      "Epoch 11/15\n",
      "100147/100147 [==============================] - 18s - loss: 1.7408 - acc: 0.4886    \n",
      "Epoch 12/15\n",
      "100147/100147 [==============================] - 18s - loss: 1.7144 - acc: 0.4944    \n",
      "Epoch 13/15\n",
      "100147/100147 [==============================] - 18s - loss: 1.6973 - acc: 0.4973    \n",
      "Epoch 14/15\n",
      "100147/100147 [==============================] - 18s - loss: 1.6788 - acc: 0.5016    \n",
      "Epoch 15/15\n",
      "100147/100147 [==============================] - 17s - loss: 1.6640 - acc: 0.5051    \n"
     ]
    }
   ],
   "source": [
    "model2.optimizer.lr = 1e-3\n",
    "hist2 = model2.fit(Xs, to_categorical(Y,len(chars)), batch_size=100, nb_epoch=15)"
   ]
  },
  {
   "cell_type": "code",
   "execution_count": 42,
   "metadata": {
    "collapsed": false
   },
   "outputs": [
    {
     "name": "stdout",
     "output_type": "stream",
     "text": [
      "this it\n",
      "this in\n",
      "this in\n",
      "this in\n",
      "this ig\n",
      "\n",
      "hersela\n",
      "hersels\n",
      "hersela\n",
      "hersels\n",
      "hersel,\n",
      "\n",
      "himself\n",
      "himself\n",
      "himself\n",
      "himself\n",
      "himself\n",
      "\n",
      "morale\n",
      "moral \n",
      "moral \n",
      "moralv\n",
      "moral \n",
      "\n",
      "morality\n",
      "morality\n",
      "morality\n",
      "morality\n",
      "moralits\n",
      "\n",
      "knowledge\n",
      "knowledge\n",
      "knowledge\n",
      "knowledge\n",
      "knowledge\n",
      "\n",
      "logical\n",
      "logical\n",
      "logical\n",
      "logical\n",
      "logical\n",
      "\n",
      "hypothesim\n",
      "hypothesin\n",
      "hypothesis\n",
      "hypothesis\n",
      "hypothesit\n",
      "\n"
     ]
    }
   ],
   "source": [
    "for teststr in teststrs:\n",
    "    show_top_next(model2, teststr)"
   ]
  },
  {
   "cell_type": "markdown",
   "metadata": {},
   "source": [
    "### Compare training convergence of the 2 models"
   ]
  },
  {
   "cell_type": "code",
   "execution_count": 50,
   "metadata": {
    "collapsed": false
   },
   "outputs": [
    {
     "data": {
      "image/png": "[encoded data removed]",
      "text/plain": [
       "<matplotlib.figure.Figure at 0x7fee3a944290>"
      ]
     },
     "metadata": {},
     "output_type": "display_data"
    }
   ],
   "source": [
    "import matplotlib.pyplot as plt\n",
    "plt.figure(figsize=(10,7))\n",
    "plt.plot(hist1.history['loss'])\n",
    "plt.plot(hist2.history['loss'])\n",
    "#plt.title('model loss')\n",
    "plt.ylabel('loss')\n",
    "plt.xlabel('epoch')\n",
    "plt.legend(['without BN','with BN'], loc='upper right')\n",
    "plt.show()"
   ]
  },
  {
   "cell_type": "code",
   "execution_count": null,
   "metadata": {
    "collapsed": true
   },
   "outputs": [],
   "source": []
  }
 ],
 "metadata": {
  "kernelspec": {
   "display_name": "Python 2",
   "language": "python",
   "name": "python2"
  },
  "language_info": {
   "codemirror_mode": {
    "name": "ipython",
    "version": 2
   },
   "file_extension": ".py",
   "mimetype": "text/x-python",
   "name": "python",
   "nbconvert_exporter": "python",
   "pygments_lexer": "ipython2",
   "version": "2.7.11"
  }
 },
 "nbformat": 4,
 "nbformat_minor": 0
}
